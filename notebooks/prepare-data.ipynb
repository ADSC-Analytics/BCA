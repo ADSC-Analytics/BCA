{
 "cells": [
  {
   "cell_type": "markdown",
   "metadata": {},
   "source": [
    "# Prepare data\n",
    "\n",
    "Prepare time-series data. This includes handling missing entries and possibly resampling datapoints."
   ]
  },
  {
   "cell_type": "code",
   "execution_count": 1,
   "metadata": {
    "ExecuteTime": {
     "end_time": "2018-09-03T08:32:46.591615Z",
     "start_time": "2018-09-03T08:32:46.288166Z"
    }
   },
   "outputs": [],
   "source": [
    "import pandas as pd\n",
    "import numpy as np\n",
    "import matplotlib.pyplot as plt\n",
    "\n",
    "plt.style.use(\"ggplot\")\n",
    "%matplotlib inline\n",
    "\n",
    "from IPython.display import display_html\n",
    "def display_side_by_side(*args):\n",
    "    \"\"\"\n",
    "    Taken from https://stackoverflow.com/questions/38783027/jupyter-notebook-display-two-pandas-tables-side-by-side\n",
    "    \"\"\"\n",
    "    html_str=''\n",
    "    for df in args:\n",
    "        html_str += df.to_html()\n",
    "    display_html(html_str.replace('table','table style=\"display:inline\"'), raw=True)"
   ]
  },
  {
   "cell_type": "markdown",
   "metadata": {},
   "source": [
    "## Get raw data"
   ]
  },
  {
   "cell_type": "code",
   "execution_count": 2,
   "metadata": {
    "ExecuteTime": {
     "end_time": "2018-09-03T08:32:47.680186Z",
     "start_time": "2018-09-03T08:32:47.215789Z"
    }
   },
   "outputs": [
    {
     "name": "stderr",
     "output_type": "stream",
     "text": [
      "/home/hongwei/anaconda3/lib/python3.6/site-packages/IPython/core/interactiveshell.py:2785: DtypeWarning: Columns (2,3,4,5,6,7,8,9) have mixed types. Specify dtype option on import or set low_memory=False.\n",
      "  interactivity=interactivity, compiler=compiler, result=result)\n"
     ]
    },
    {
     "data": {
      "text/html": [
       "<table style=\"display:inline\" border=\"1\" class=\"dataframe\">\n",
       "  <thead>\n",
       "    <tr style=\"text-align: right;\">\n",
       "      <th></th>\n",
       "      <th>chwshdr</th>\n",
       "      <th>cwrhdr</th>\n",
       "      <th>cwshdr</th>\n",
       "      <th>cwsfhdr</th>\n",
       "      <th>ch1kw</th>\n",
       "      <th>ch2kw</th>\n",
       "      <th>ch3kw</th>\n",
       "      <th>loadsys</th>\n",
       "      <th>chwsfhdr</th>\n",
       "    </tr>\n",
       "    <tr>\n",
       "      <th>timestamp</th>\n",
       "      <th></th>\n",
       "      <th></th>\n",
       "      <th></th>\n",
       "      <th></th>\n",
       "      <th></th>\n",
       "      <th></th>\n",
       "      <th></th>\n",
       "      <th></th>\n",
       "      <th></th>\n",
       "    </tr>\n",
       "  </thead>\n",
       "  <tbody>\n",
       "    <tr>\n",
       "      <th>2016-02-01 00:00:00</th>\n",
       "      <td>0.00000</td>\n",
       "      <td>30.4664</td>\n",
       "      <td>0</td>\n",
       "      <td>0</td>\n",
       "      <td>0</td>\n",
       "      <td>0</td>\n",
       "      <td>0</td>\n",
       "      <td>0</td>\n",
       "      <td>0</td>\n",
       "    </tr>\n",
       "    <tr>\n",
       "      <th>2016-02-01 00:01:00</th>\n",
       "      <td>8.46289</td>\n",
       "      <td>30.3218</td>\n",
       "      <td>27.143</td>\n",
       "      <td>536.522</td>\n",
       "      <td>0.844</td>\n",
       "      <td>0.856</td>\n",
       "      <td>82.944</td>\n",
       "      <td>113.924</td>\n",
       "      <td>407.278</td>\n",
       "    </tr>\n",
       "    <tr>\n",
       "      <th>2016-02-01 00:02:00</th>\n",
       "      <td>8.50649</td>\n",
       "      <td>30.2704</td>\n",
       "      <td>27.1343</td>\n",
       "      <td>531.157</td>\n",
       "      <td>0.848</td>\n",
       "      <td>0.88</td>\n",
       "      <td>81.92</td>\n",
       "      <td>111.232</td>\n",
       "      <td>402.875</td>\n",
       "    </tr>\n",
       "    <tr>\n",
       "      <th>2016-02-01 00:03:00</th>\n",
       "      <td>8.52001</td>\n",
       "      <td>30.2337</td>\n",
       "      <td>27.1465</td>\n",
       "      <td>532.766</td>\n",
       "      <td>0.864</td>\n",
       "      <td>0.868</td>\n",
       "      <td>80.896</td>\n",
       "      <td>108.164</td>\n",
       "      <td>395.83</td>\n",
       "    </tr>\n",
       "    <tr>\n",
       "      <th>2016-02-01 00:04:00</th>\n",
       "      <td>8.48630</td>\n",
       "      <td>30.2245</td>\n",
       "      <td>27.151</td>\n",
       "      <td>534.376</td>\n",
       "      <td>0.872</td>\n",
       "      <td>0.88</td>\n",
       "      <td>79.872</td>\n",
       "      <td>105.685</td>\n",
       "      <td>385.703</td>\n",
       "    </tr>\n",
       "  </tbody>\n",
       "</table style=\"display:inline\"><table style=\"display:inline\" border=\"1\" class=\"dataframe\">\n",
       "  <thead>\n",
       "    <tr style=\"text-align: right;\">\n",
       "      <th></th>\n",
       "      <th>chwshdr</th>\n",
       "      <th>cwrhdr</th>\n",
       "      <th>cwshdr</th>\n",
       "      <th>cwsfhdr</th>\n",
       "      <th>ch1kw</th>\n",
       "      <th>ch2kw</th>\n",
       "      <th>ch3kw</th>\n",
       "      <th>loadsys</th>\n",
       "      <th>chwsfhdr</th>\n",
       "    </tr>\n",
       "    <tr>\n",
       "      <th>timestamp</th>\n",
       "      <th></th>\n",
       "      <th></th>\n",
       "      <th></th>\n",
       "      <th></th>\n",
       "      <th></th>\n",
       "      <th></th>\n",
       "      <th></th>\n",
       "      <th></th>\n",
       "      <th></th>\n",
       "    </tr>\n",
       "  </thead>\n",
       "  <tbody>\n",
       "    <tr>\n",
       "      <th>2018-04-01 00:00:00</th>\n",
       "      <td>0.0000</td>\n",
       "      <td>0.0000</td>\n",
       "      <td>0.0000</td>\n",
       "      <td>576.223</td>\n",
       "      <td>42.24</td>\n",
       "      <td>0.848</td>\n",
       "      <td>0</td>\n",
       "      <td>95.6832</td>\n",
       "      <td>486.972</td>\n",
       "    </tr>\n",
       "    <tr>\n",
       "      <th>2018-04-01 00:01:00</th>\n",
       "      <td>10.7674</td>\n",
       "      <td>28.8237</td>\n",
       "      <td>26.3996</td>\n",
       "      <td>579.979</td>\n",
       "      <td>42.24</td>\n",
       "      <td>0.852</td>\n",
       "      <td>0</td>\n",
       "      <td>96.2943</td>\n",
       "      <td>486.091</td>\n",
       "    </tr>\n",
       "    <tr>\n",
       "      <th>2018-04-01 00:02:00</th>\n",
       "      <td>10.7565</td>\n",
       "      <td>28.8110</td>\n",
       "      <td>26.4044</td>\n",
       "      <td>579.979</td>\n",
       "      <td>42.24</td>\n",
       "      <td>0.852</td>\n",
       "      <td>0</td>\n",
       "      <td>94.0744</td>\n",
       "      <td>483.89</td>\n",
       "    </tr>\n",
       "    <tr>\n",
       "      <th>2018-04-01 00:03:00</th>\n",
       "      <td>10.7790</td>\n",
       "      <td>28.8033</td>\n",
       "      <td>26.4193</td>\n",
       "      <td>585.344</td>\n",
       "      <td>42.24</td>\n",
       "      <td>0.856</td>\n",
       "      <td>0</td>\n",
       "      <td>95.706</td>\n",
       "      <td>482.569</td>\n",
       "    </tr>\n",
       "    <tr>\n",
       "      <th>2018-04-01 00:04:00</th>\n",
       "      <td>10.7694</td>\n",
       "      <td>28.8263</td>\n",
       "      <td>26.3700</td>\n",
       "      <td>580.515</td>\n",
       "      <td>42.24</td>\n",
       "      <td>0.844</td>\n",
       "      <td>0</td>\n",
       "      <td>95.3113</td>\n",
       "      <td>487.852</td>\n",
       "    </tr>\n",
       "  </tbody>\n",
       "</table style=\"display:inline\">"
      ]
     },
     "metadata": {},
     "output_type": "display_data"
    }
   ],
   "source": [
    "df1 = pd.read_csv(\"../data/kaer_insead_at_8May18-21786.csv.gz\",\n",
    "                  index_col=\"Time Stamp\",\n",
    "                  parse_dates=True,\n",
    "                  compression=\"gzip\"\n",
    "                 )\n",
    "\n",
    "df2 = pd.read_csv(\"../data/kaer_insead_at_8May18-27169.csv.gz\",\n",
    "                  index_col=\"Time Stamp\",\n",
    "                  parse_dates=True,\n",
    "                  compression=\"gzip\"\n",
    "                 )\n",
    "\n",
    "df1.index.name = \"timestamp\"\n",
    "df2.index.name = \"timestamp\"\n",
    "\n",
    "display_side_by_side(df1.head(), df2.head())"
   ]
  },
  {
   "cell_type": "markdown",
   "metadata": {},
   "source": [
    "## Mark missing data"
   ]
  },
  {
   "cell_type": "code",
   "execution_count": 3,
   "metadata": {
    "ExecuteTime": {
     "end_time": "2018-09-03T08:32:50.856965Z",
     "start_time": "2018-09-03T08:32:50.733684Z"
    }
   },
   "outputs": [],
   "source": [
    "df1 = df1.replace(\"\\\\N\", np.nan)\n",
    "df2 = df2.replace(\"\\\\N\", np.nan)"
   ]
  },
  {
   "cell_type": "markdown",
   "metadata": {},
   "source": [
    "## Analyze missing values"
   ]
  },
  {
   "cell_type": "code",
   "execution_count": 4,
   "metadata": {
    "ExecuteTime": {
     "end_time": "2018-09-03T08:32:51.655119Z",
     "start_time": "2018-09-03T08:32:51.470791Z"
    }
   },
   "outputs": [
    {
     "data": {
      "text/html": [
       "<div>\n",
       "<style scoped>\n",
       "    .dataframe tbody tr th:only-of-type {\n",
       "        vertical-align: middle;\n",
       "    }\n",
       "\n",
       "    .dataframe tbody tr th {\n",
       "        vertical-align: top;\n",
       "    }\n",
       "\n",
       "    .dataframe thead th {\n",
       "        text-align: right;\n",
       "    }\n",
       "</style>\n",
       "<table border=\"1\" class=\"dataframe\">\n",
       "  <thead>\n",
       "    <tr style=\"text-align: right;\">\n",
       "      <th></th>\n",
       "      <th>chwshdr</th>\n",
       "      <th>cwrhdr</th>\n",
       "      <th>cwshdr</th>\n",
       "      <th>cwsfhdr</th>\n",
       "      <th>ch1kw</th>\n",
       "      <th>ch2kw</th>\n",
       "      <th>ch3kw</th>\n",
       "      <th>loadsys</th>\n",
       "      <th>chwsfhdr</th>\n",
       "    </tr>\n",
       "    <tr>\n",
       "      <th>timestamp</th>\n",
       "      <th></th>\n",
       "      <th></th>\n",
       "      <th></th>\n",
       "      <th></th>\n",
       "      <th></th>\n",
       "      <th></th>\n",
       "      <th></th>\n",
       "      <th></th>\n",
       "      <th></th>\n",
       "    </tr>\n",
       "  </thead>\n",
       "  <tbody>\n",
       "    <tr>\n",
       "      <th>2016-02-23</th>\n",
       "      <td>0.0</td>\n",
       "      <td>767.0</td>\n",
       "      <td>755.0</td>\n",
       "      <td>0.0</td>\n",
       "      <td>0.0</td>\n",
       "      <td>0.0</td>\n",
       "      <td>0.0</td>\n",
       "      <td>0.0</td>\n",
       "      <td>0.0</td>\n",
       "    </tr>\n",
       "    <tr>\n",
       "      <th>2016-02-24</th>\n",
       "      <td>0.0</td>\n",
       "      <td>1412.0</td>\n",
       "      <td>5.0</td>\n",
       "      <td>5.0</td>\n",
       "      <td>0.0</td>\n",
       "      <td>0.0</td>\n",
       "      <td>0.0</td>\n",
       "      <td>0.0</td>\n",
       "      <td>5.0</td>\n",
       "    </tr>\n",
       "    <tr>\n",
       "      <th>2016-02-25</th>\n",
       "      <td>0.0</td>\n",
       "      <td>8.0</td>\n",
       "      <td>8.0</td>\n",
       "      <td>8.0</td>\n",
       "      <td>0.0</td>\n",
       "      <td>0.0</td>\n",
       "      <td>0.0</td>\n",
       "      <td>0.0</td>\n",
       "      <td>8.0</td>\n",
       "    </tr>\n",
       "    <tr>\n",
       "      <th>2016-02-26</th>\n",
       "      <td>0.0</td>\n",
       "      <td>1383.0</td>\n",
       "      <td>1383.0</td>\n",
       "      <td>6.0</td>\n",
       "      <td>1.0</td>\n",
       "      <td>1.0</td>\n",
       "      <td>1.0</td>\n",
       "      <td>1.0</td>\n",
       "      <td>6.0</td>\n",
       "    </tr>\n",
       "  </tbody>\n",
       "</table>\n",
       "</div>"
      ],
      "text/plain": [
       "            chwshdr  cwrhdr  cwshdr  cwsfhdr  ch1kw  ch2kw  ch3kw  loadsys  \\\n",
       "timestamp                                                                    \n",
       "2016-02-23      0.0   767.0   755.0      0.0    0.0    0.0    0.0      0.0   \n",
       "2016-02-24      0.0  1412.0     5.0      5.0    0.0    0.0    0.0      0.0   \n",
       "2016-02-25      0.0     8.0     8.0      8.0    0.0    0.0    0.0      0.0   \n",
       "2016-02-26      0.0  1383.0  1383.0      6.0    1.0    1.0    1.0      1.0   \n",
       "\n",
       "            chwsfhdr  \n",
       "timestamp             \n",
       "2016-02-23       0.0  \n",
       "2016-02-24       5.0  \n",
       "2016-02-25       8.0  \n",
       "2016-02-26       6.0  "
      ]
     },
     "execution_count": 4,
     "metadata": {},
     "output_type": "execute_result"
    }
   ],
   "source": [
    "# Group data by day of month and count number of entries that are null\n",
    "# Display only days with missing entries\n",
    "missing1 = df1.isnull().groupby(df1.index.to_period(\"D\")).sum()\n",
    "missing1.loc[np.any(missing1 > 0, axis=1)]"
   ]
  },
  {
   "cell_type": "code",
   "execution_count": 5,
   "metadata": {
    "ExecuteTime": {
     "end_time": "2018-09-03T08:32:53.573388Z",
     "start_time": "2018-09-03T08:32:53.436047Z"
    }
   },
   "outputs": [
    {
     "data": {
      "text/html": [
       "<div>\n",
       "<style scoped>\n",
       "    .dataframe tbody tr th:only-of-type {\n",
       "        vertical-align: middle;\n",
       "    }\n",
       "\n",
       "    .dataframe tbody tr th {\n",
       "        vertical-align: top;\n",
       "    }\n",
       "\n",
       "    .dataframe thead th {\n",
       "        text-align: right;\n",
       "    }\n",
       "</style>\n",
       "<table border=\"1\" class=\"dataframe\">\n",
       "  <thead>\n",
       "    <tr style=\"text-align: right;\">\n",
       "      <th></th>\n",
       "      <th>chwshdr</th>\n",
       "      <th>cwrhdr</th>\n",
       "      <th>cwshdr</th>\n",
       "      <th>cwsfhdr</th>\n",
       "      <th>ch1kw</th>\n",
       "      <th>ch2kw</th>\n",
       "      <th>ch3kw</th>\n",
       "      <th>loadsys</th>\n",
       "      <th>chwsfhdr</th>\n",
       "    </tr>\n",
       "    <tr>\n",
       "      <th>timestamp</th>\n",
       "      <th></th>\n",
       "      <th></th>\n",
       "      <th></th>\n",
       "      <th></th>\n",
       "      <th></th>\n",
       "      <th></th>\n",
       "      <th></th>\n",
       "      <th></th>\n",
       "      <th></th>\n",
       "    </tr>\n",
       "  </thead>\n",
       "  <tbody>\n",
       "    <tr>\n",
       "      <th>2018-04-05</th>\n",
       "      <td>0.0</td>\n",
       "      <td>0.0</td>\n",
       "      <td>0.0</td>\n",
       "      <td>1.0</td>\n",
       "      <td>1.0</td>\n",
       "      <td>1.0</td>\n",
       "      <td>1.0</td>\n",
       "      <td>1.0</td>\n",
       "      <td>1.0</td>\n",
       "    </tr>\n",
       "    <tr>\n",
       "      <th>2018-04-06</th>\n",
       "      <td>0.0</td>\n",
       "      <td>0.0</td>\n",
       "      <td>0.0</td>\n",
       "      <td>2.0</td>\n",
       "      <td>2.0</td>\n",
       "      <td>2.0</td>\n",
       "      <td>2.0</td>\n",
       "      <td>2.0</td>\n",
       "      <td>2.0</td>\n",
       "    </tr>\n",
       "    <tr>\n",
       "      <th>2018-04-08</th>\n",
       "      <td>0.0</td>\n",
       "      <td>0.0</td>\n",
       "      <td>0.0</td>\n",
       "      <td>1.0</td>\n",
       "      <td>1.0</td>\n",
       "      <td>1.0</td>\n",
       "      <td>1.0</td>\n",
       "      <td>1.0</td>\n",
       "      <td>1.0</td>\n",
       "    </tr>\n",
       "    <tr>\n",
       "      <th>2018-04-10</th>\n",
       "      <td>0.0</td>\n",
       "      <td>0.0</td>\n",
       "      <td>0.0</td>\n",
       "      <td>1.0</td>\n",
       "      <td>1.0</td>\n",
       "      <td>1.0</td>\n",
       "      <td>1.0</td>\n",
       "      <td>1.0</td>\n",
       "      <td>1.0</td>\n",
       "    </tr>\n",
       "    <tr>\n",
       "      <th>2018-04-13</th>\n",
       "      <td>0.0</td>\n",
       "      <td>0.0</td>\n",
       "      <td>0.0</td>\n",
       "      <td>1.0</td>\n",
       "      <td>1.0</td>\n",
       "      <td>1.0</td>\n",
       "      <td>1.0</td>\n",
       "      <td>1.0</td>\n",
       "      <td>1.0</td>\n",
       "    </tr>\n",
       "    <tr>\n",
       "      <th>2018-04-15</th>\n",
       "      <td>0.0</td>\n",
       "      <td>0.0</td>\n",
       "      <td>0.0</td>\n",
       "      <td>1.0</td>\n",
       "      <td>1.0</td>\n",
       "      <td>1.0</td>\n",
       "      <td>1.0</td>\n",
       "      <td>1.0</td>\n",
       "      <td>1.0</td>\n",
       "    </tr>\n",
       "    <tr>\n",
       "      <th>2018-04-25</th>\n",
       "      <td>0.0</td>\n",
       "      <td>0.0</td>\n",
       "      <td>0.0</td>\n",
       "      <td>1.0</td>\n",
       "      <td>1.0</td>\n",
       "      <td>1.0</td>\n",
       "      <td>1.0</td>\n",
       "      <td>1.0</td>\n",
       "      <td>1.0</td>\n",
       "    </tr>\n",
       "    <tr>\n",
       "      <th>2018-04-28</th>\n",
       "      <td>0.0</td>\n",
       "      <td>0.0</td>\n",
       "      <td>0.0</td>\n",
       "      <td>1.0</td>\n",
       "      <td>1.0</td>\n",
       "      <td>1.0</td>\n",
       "      <td>1.0</td>\n",
       "      <td>1.0</td>\n",
       "      <td>1.0</td>\n",
       "    </tr>\n",
       "    <tr>\n",
       "      <th>2018-04-30</th>\n",
       "      <td>0.0</td>\n",
       "      <td>0.0</td>\n",
       "      <td>0.0</td>\n",
       "      <td>1.0</td>\n",
       "      <td>1.0</td>\n",
       "      <td>1.0</td>\n",
       "      <td>1.0</td>\n",
       "      <td>1.0</td>\n",
       "      <td>1.0</td>\n",
       "    </tr>\n",
       "    <tr>\n",
       "      <th>2018-05-06</th>\n",
       "      <td>0.0</td>\n",
       "      <td>0.0</td>\n",
       "      <td>0.0</td>\n",
       "      <td>1.0</td>\n",
       "      <td>1.0</td>\n",
       "      <td>1.0</td>\n",
       "      <td>1.0</td>\n",
       "      <td>1.0</td>\n",
       "      <td>1.0</td>\n",
       "    </tr>\n",
       "  </tbody>\n",
       "</table>\n",
       "</div>"
      ],
      "text/plain": [
       "            chwshdr  cwrhdr  cwshdr  cwsfhdr  ch1kw  ch2kw  ch3kw  loadsys  \\\n",
       "timestamp                                                                    \n",
       "2018-04-05      0.0     0.0     0.0      1.0    1.0    1.0    1.0      1.0   \n",
       "2018-04-06      0.0     0.0     0.0      2.0    2.0    2.0    2.0      2.0   \n",
       "2018-04-08      0.0     0.0     0.0      1.0    1.0    1.0    1.0      1.0   \n",
       "2018-04-10      0.0     0.0     0.0      1.0    1.0    1.0    1.0      1.0   \n",
       "2018-04-13      0.0     0.0     0.0      1.0    1.0    1.0    1.0      1.0   \n",
       "2018-04-15      0.0     0.0     0.0      1.0    1.0    1.0    1.0      1.0   \n",
       "2018-04-25      0.0     0.0     0.0      1.0    1.0    1.0    1.0      1.0   \n",
       "2018-04-28      0.0     0.0     0.0      1.0    1.0    1.0    1.0      1.0   \n",
       "2018-04-30      0.0     0.0     0.0      1.0    1.0    1.0    1.0      1.0   \n",
       "2018-05-06      0.0     0.0     0.0      1.0    1.0    1.0    1.0      1.0   \n",
       "\n",
       "            chwsfhdr  \n",
       "timestamp             \n",
       "2018-04-05       1.0  \n",
       "2018-04-06       2.0  \n",
       "2018-04-08       1.0  \n",
       "2018-04-10       1.0  \n",
       "2018-04-13       1.0  \n",
       "2018-04-15       1.0  \n",
       "2018-04-25       1.0  \n",
       "2018-04-28       1.0  \n",
       "2018-04-30       1.0  \n",
       "2018-05-06       1.0  "
      ]
     },
     "execution_count": 5,
     "metadata": {},
     "output_type": "execute_result"
    }
   ],
   "source": [
    "# Group data by day of month and count number of entries that are null\n",
    "# Display only days with missing entries\n",
    "missing2 = df2.isnull().groupby(df2.index.to_period(\"D\")).sum()\n",
    "missing2.loc[np.any(missing2 > 0, axis=1)]"
   ]
  },
  {
   "cell_type": "code",
   "execution_count": 6,
   "metadata": {
    "ExecuteTime": {
     "end_time": "2018-09-03T08:32:56.169843Z",
     "start_time": "2018-09-03T08:32:56.109347Z"
    }
   },
   "outputs": [
    {
     "data": {
      "text/html": [
       "<table style=\"display:inline\" border=\"1\" class=\"dataframe\">\n",
       "  <thead>\n",
       "    <tr style=\"text-align: right;\">\n",
       "      <th></th>\n",
       "      <th>Number of '\\N' entries</th>\n",
       "    </tr>\n",
       "  </thead>\n",
       "  <tbody>\n",
       "    <tr>\n",
       "      <th>chwshdr</th>\n",
       "      <td>0</td>\n",
       "    </tr>\n",
       "    <tr>\n",
       "      <th>cwrhdr</th>\n",
       "      <td>3570</td>\n",
       "    </tr>\n",
       "    <tr>\n",
       "      <th>cwshdr</th>\n",
       "      <td>2151</td>\n",
       "    </tr>\n",
       "    <tr>\n",
       "      <th>cwsfhdr</th>\n",
       "      <td>19</td>\n",
       "    </tr>\n",
       "    <tr>\n",
       "      <th>ch1kw</th>\n",
       "      <td>1</td>\n",
       "    </tr>\n",
       "    <tr>\n",
       "      <th>ch2kw</th>\n",
       "      <td>1</td>\n",
       "    </tr>\n",
       "    <tr>\n",
       "      <th>ch3kw</th>\n",
       "      <td>1</td>\n",
       "    </tr>\n",
       "    <tr>\n",
       "      <th>loadsys</th>\n",
       "      <td>1</td>\n",
       "    </tr>\n",
       "    <tr>\n",
       "      <th>chwsfhdr</th>\n",
       "      <td>19</td>\n",
       "    </tr>\n",
       "  </tbody>\n",
       "</table style=\"display:inline\"><table style=\"display:inline\" border=\"1\" class=\"dataframe\">\n",
       "  <thead>\n",
       "    <tr style=\"text-align: right;\">\n",
       "      <th></th>\n",
       "      <th>Number of '\\N' entries</th>\n",
       "    </tr>\n",
       "  </thead>\n",
       "  <tbody>\n",
       "    <tr>\n",
       "      <th>chwshdr</th>\n",
       "      <td>0</td>\n",
       "    </tr>\n",
       "    <tr>\n",
       "      <th>cwrhdr</th>\n",
       "      <td>0</td>\n",
       "    </tr>\n",
       "    <tr>\n",
       "      <th>cwshdr</th>\n",
       "      <td>0</td>\n",
       "    </tr>\n",
       "    <tr>\n",
       "      <th>cwsfhdr</th>\n",
       "      <td>11</td>\n",
       "    </tr>\n",
       "    <tr>\n",
       "      <th>ch1kw</th>\n",
       "      <td>11</td>\n",
       "    </tr>\n",
       "    <tr>\n",
       "      <th>ch2kw</th>\n",
       "      <td>11</td>\n",
       "    </tr>\n",
       "    <tr>\n",
       "      <th>ch3kw</th>\n",
       "      <td>11</td>\n",
       "    </tr>\n",
       "    <tr>\n",
       "      <th>loadsys</th>\n",
       "      <td>11</td>\n",
       "    </tr>\n",
       "    <tr>\n",
       "      <th>chwsfhdr</th>\n",
       "      <td>11</td>\n",
       "    </tr>\n",
       "  </tbody>\n",
       "</table style=\"display:inline\">"
      ]
     },
     "metadata": {},
     "output_type": "display_data"
    }
   ],
   "source": [
    "df1_null = df1.isnull().sum().to_frame(\"Number of '\\\\N' entries\")\n",
    "df2_null = df2.isnull().sum().to_frame(\"Number of '\\\\N' entries\")\n",
    "display_side_by_side(df1_null, df2_null)"
   ]
  },
  {
   "cell_type": "code",
   "execution_count": 7,
   "metadata": {
    "ExecuteTime": {
     "end_time": "2018-09-03T08:32:58.901191Z",
     "start_time": "2018-09-03T08:32:56.756090Z"
    }
   },
   "outputs": [
    {
     "data": {
      "image/png": "[encoded data removed]",
      "text/plain": [
       "<Figure size 720x360 with 2 Axes>"
      ]
     },
     "metadata": {},
     "output_type": "display_data"
    }
   ],
   "source": [
    "fig, axes = plt.subplots(1, 2, figsize=(10, 5))\n",
    "\n",
    "(df1.isnull().astype(int)).plot(ax=axes[0])\n",
    "(df2.isnull().astype(int)).plot(ax=axes[1])\n",
    "\n",
    "fig.suptitle(\"Missing values in dataset\")\n",
    "axes[0].set_title(\"Year 2016\")\n",
    "axes[1].set_title(\"Year 2018\");"
   ]
  },
  {
   "cell_type": "code",
   "execution_count": 8,
   "metadata": {
    "ExecuteTime": {
     "end_time": "2018-09-03T08:32:59.880821Z",
     "start_time": "2018-09-03T08:32:59.036077Z"
    }
   },
   "outputs": [
    {
     "data": {
      "image/png": "[encoded data removed]",
      "text/plain": [
       "<Figure size 720x360 with 2 Axes>"
      ]
     },
     "metadata": {},
     "output_type": "display_data"
    }
   ],
   "source": [
    "fig, axes = plt.subplots(1, 2, figsize=(10, 5))\n",
    "\n",
    "(df1.isnull().astype(int)).groupby(df1.index.to_period(\"D\")).sum().plot(ax=axes[0])\n",
    "(df2.isnull().astype(int)).groupby(df2.index.to_period(\"D\")).sum().plot(ax=axes[1])\n",
    "\n",
    "fig.suptitle(\"Missing values in dataset\")\n",
    "axes[0].set_title(\"Year 2016\")\n",
    "axes[1].set_title(\"Year 2018\");"
   ]
  },
  {
   "cell_type": "markdown",
   "metadata": {},
   "source": [
    "## Drop null values"
   ]
  },
  {
   "cell_type": "code",
   "execution_count": 9,
   "metadata": {
    "ExecuteTime": {
     "end_time": "2018-09-03T08:33:11.844464Z",
     "start_time": "2018-09-03T08:33:11.837847Z"
    }
   },
   "outputs": [
    {
     "data": {
      "text/plain": [
       "((85193, 9), (53158, 9))"
      ]
     },
     "execution_count": 9,
     "metadata": {},
     "output_type": "execute_result"
    }
   ],
   "source": [
    "df1.shape, df2.shape"
   ]
  },
  {
   "cell_type": "code",
   "execution_count": 10,
   "metadata": {
    "ExecuteTime": {
     "end_time": "2018-09-03T08:33:14.913649Z",
     "start_time": "2018-09-03T08:33:14.827782Z"
    }
   },
   "outputs": [],
   "source": [
    "df1 = df1.dropna()\n",
    "df2 = df2.dropna()"
   ]
  },
  {
   "cell_type": "code",
   "execution_count": 11,
   "metadata": {
    "ExecuteTime": {
     "end_time": "2018-09-03T08:33:16.010908Z",
     "start_time": "2018-09-03T08:33:16.003996Z"
    }
   },
   "outputs": [
    {
     "data": {
      "text/plain": [
       "((81623, 9), (53147, 9))"
      ]
     },
     "execution_count": 11,
     "metadata": {},
     "output_type": "execute_result"
    }
   ],
   "source": [
    "df1.shape, df2.shape"
   ]
  },
  {
   "cell_type": "code",
   "execution_count": 13,
   "metadata": {
    "ExecuteTime": {
     "end_time": "2018-09-03T08:33:58.266117Z",
     "start_time": "2018-09-03T08:33:58.223137Z"
    }
   },
   "outputs": [],
   "source": [
    "assert( not (np.any(df1.isnull()) or np.any(df2.isnull())))"
   ]
  },
  {
   "cell_type": "markdown",
   "metadata": {},
   "source": [
    "## Convert data type to float"
   ]
  },
  {
   "cell_type": "code",
   "execution_count": 14,
   "metadata": {
    "ExecuteTime": {
     "end_time": "2018-09-03T08:34:02.598474Z",
     "start_time": "2018-09-03T08:34:02.591405Z"
    }
   },
   "outputs": [],
   "source": [
    "def fix_dtypes(df, columns):\n",
    "    for c in columns:\n",
    "        if df.dtypes[c] != np.float64:\n",
    "            df[c] = pd.to_numeric(df[c], errors=\"raise\")\n",
    "    return df"
   ]
  },
  {
   "cell_type": "code",
   "execution_count": 15,
   "metadata": {
    "ExecuteTime": {
     "end_time": "2018-09-03T08:34:03.192343Z",
     "start_time": "2018-09-03T08:34:02.805660Z"
    }
   },
   "outputs": [
    {
     "data": {
      "text/plain": [
       "(chwshdr     float64\n",
       " cwrhdr      float64\n",
       " cwshdr      float64\n",
       " cwsfhdr     float64\n",
       " ch1kw       float64\n",
       " ch2kw       float64\n",
       " ch3kw       float64\n",
       " loadsys     float64\n",
       " chwsfhdr    float64\n",
       " dtype: object, chwshdr     float64\n",
       " cwrhdr      float64\n",
       " cwshdr      float64\n",
       " cwsfhdr     float64\n",
       " ch1kw       float64\n",
       " ch2kw       float64\n",
       " ch3kw         int64\n",
       " loadsys     float64\n",
       " chwsfhdr    float64\n",
       " dtype: object)"
      ]
     },
     "execution_count": 15,
     "metadata": {},
     "output_type": "execute_result"
    }
   ],
   "source": [
    "col_names = ['chwshdr', 'cwrhdr', 'cwshdr', 'cwsfhdr', \n",
    "             'ch1kw', 'ch2kw', 'ch3kw','loadsys', 'chwsfhdr']\n",
    "\n",
    "df1 = fix_dtypes(df1, col_names)\n",
    "df2 = fix_dtypes(df2, col_names)\n",
    "df1.dtypes, df2.dtypes"
   ]
  },
  {
   "cell_type": "markdown",
   "metadata": {},
   "source": [
    "## Resample time-series\n",
    "\n",
    "Resample time-series so that time spacing is even."
   ]
  },
  {
   "cell_type": "code",
   "execution_count": 13,
   "metadata": {
    "ExecuteTime": {
     "end_time": "2018-07-28T02:21:47.365271Z",
     "start_time": "2018-07-28T02:21:47.110113Z"
    }
   },
   "outputs": [
    {
     "data": {
      "text/html": [
       "<table style=\"display:inline\" border=\"1\" class=\"dataframe\">\n",
       "  <thead>\n",
       "    <tr style=\"text-align: right;\">\n",
       "      <th></th>\n",
       "      <th>timestamp</th>\n",
       "      <th>chwshdr</th>\n",
       "      <th>cwrhdr</th>\n",
       "      <th>cwshdr</th>\n",
       "      <th>cwsfhdr</th>\n",
       "      <th>ch1kw</th>\n",
       "      <th>ch2kw</th>\n",
       "      <th>ch3kw</th>\n",
       "      <th>loadsys</th>\n",
       "      <th>chwsfhdr</th>\n",
       "    </tr>\n",
       "    <tr>\n",
       "      <th>timestamp</th>\n",
       "      <th></th>\n",
       "      <th></th>\n",
       "      <th></th>\n",
       "      <th></th>\n",
       "      <th></th>\n",
       "      <th></th>\n",
       "      <th></th>\n",
       "      <th></th>\n",
       "      <th></th>\n",
       "      <th></th>\n",
       "    </tr>\n",
       "  </thead>\n",
       "  <tbody>\n",
       "    <tr>\n",
       "      <th>2016-02-01 00:05:00</th>\n",
       "      <td>2016-02-01</td>\n",
       "      <td>6.795138</td>\n",
       "      <td>30.30336</td>\n",
       "      <td>21.71496</td>\n",
       "      <td>426.9642</td>\n",
       "      <td>0.6856</td>\n",
       "      <td>0.6968</td>\n",
       "      <td>65.1264</td>\n",
       "      <td>87.80100</td>\n",
       "      <td>318.3372</td>\n",
       "    </tr>\n",
       "    <tr>\n",
       "      <th>2016-02-01 00:10:00</th>\n",
       "      <td>2016-02-01</td>\n",
       "      <td>8.469926</td>\n",
       "      <td>30.04602</td>\n",
       "      <td>27.10646</td>\n",
       "      <td>524.1820</td>\n",
       "      <td>0.8672</td>\n",
       "      <td>0.8720</td>\n",
       "      <td>75.5712</td>\n",
       "      <td>101.22132</td>\n",
       "      <td>371.9654</td>\n",
       "    </tr>\n",
       "    <tr>\n",
       "      <th>2016-02-01 00:15:00</th>\n",
       "      <td>2016-02-01</td>\n",
       "      <td>8.450484</td>\n",
       "      <td>29.83354</td>\n",
       "      <td>27.04058</td>\n",
       "      <td>512.3792</td>\n",
       "      <td>0.8720</td>\n",
       "      <td>0.8688</td>\n",
       "      <td>69.5296</td>\n",
       "      <td>89.08462</td>\n",
       "      <td>354.9698</td>\n",
       "    </tr>\n",
       "  </tbody>\n",
       "</table style=\"display:inline\"><table style=\"display:inline\" border=\"1\" class=\"dataframe\">\n",
       "  <thead>\n",
       "    <tr style=\"text-align: right;\">\n",
       "      <th></th>\n",
       "      <th>timestamp</th>\n",
       "      <th>chwshdr</th>\n",
       "      <th>cwrhdr</th>\n",
       "      <th>cwshdr</th>\n",
       "      <th>cwsfhdr</th>\n",
       "      <th>ch1kw</th>\n",
       "      <th>ch2kw</th>\n",
       "      <th>ch3kw</th>\n",
       "      <th>loadsys</th>\n",
       "      <th>chwsfhdr</th>\n",
       "    </tr>\n",
       "    <tr>\n",
       "      <th>timestamp</th>\n",
       "      <th></th>\n",
       "      <th></th>\n",
       "      <th></th>\n",
       "      <th></th>\n",
       "      <th></th>\n",
       "      <th></th>\n",
       "      <th></th>\n",
       "      <th></th>\n",
       "      <th></th>\n",
       "      <th></th>\n",
       "    </tr>\n",
       "  </thead>\n",
       "  <tbody>\n",
       "    <tr>\n",
       "      <th>2018-04-01 00:05:00</th>\n",
       "      <td>2018-04-01</td>\n",
       "      <td>8.61446</td>\n",
       "      <td>23.05286</td>\n",
       "      <td>21.11866</td>\n",
       "      <td>580.4080</td>\n",
       "      <td>42.2400</td>\n",
       "      <td>0.8504</td>\n",
       "      <td>0.0</td>\n",
       "      <td>95.41384</td>\n",
       "      <td>485.4748</td>\n",
       "    </tr>\n",
       "    <tr>\n",
       "      <th>2018-04-01 00:10:00</th>\n",
       "      <td>2018-04-01</td>\n",
       "      <td>10.71612</td>\n",
       "      <td>28.72886</td>\n",
       "      <td>26.38856</td>\n",
       "      <td>578.7986</td>\n",
       "      <td>41.1136</td>\n",
       "      <td>0.8472</td>\n",
       "      <td>0.0</td>\n",
       "      <td>89.89642</td>\n",
       "      <td>483.0092</td>\n",
       "    </tr>\n",
       "    <tr>\n",
       "      <th>2018-04-01 00:15:00</th>\n",
       "      <td>2018-04-01</td>\n",
       "      <td>10.70414</td>\n",
       "      <td>28.54420</td>\n",
       "      <td>26.33778</td>\n",
       "      <td>579.4422</td>\n",
       "      <td>39.8848</td>\n",
       "      <td>0.8488</td>\n",
       "      <td>0.0</td>\n",
       "      <td>86.63760</td>\n",
       "      <td>478.6938</td>\n",
       "    </tr>\n",
       "  </tbody>\n",
       "</table style=\"display:inline\">"
      ]
     },
     "metadata": {},
     "output_type": "display_data"
    }
   ],
   "source": [
    "df1_sampled = df1.groupby(pd.Grouper(freq='D')).resample(\"5min\", closed=\"left\", label=\"right\").mean()\n",
    "df1_sampled.reset_index(level=0, inplace=True)\n",
    "df2_sampled = df2.groupby(pd.Grouper(freq='D')).resample(\"5min\", closed=\"left\", label=\"right\").mean()\n",
    "df2_sampled.reset_index(level=0, inplace=True)\n",
    "display_side_by_side(df1_sampled.head(3), df2_sampled.head(3))"
   ]
  },
  {
   "cell_type": "markdown",
   "metadata": {},
   "source": [
    "## Create binary on/off state of chillers\n",
    "\n",
    "This is based on comments by Dr Chai given in his email."
   ]
  },
  {
   "cell_type": "code",
   "execution_count": 16,
   "metadata": {
    "ExecuteTime": {
     "end_time": "2018-09-03T08:35:27.604214Z",
     "start_time": "2018-09-03T08:35:27.598347Z"
    }
   },
   "outputs": [],
   "source": [
    "def assign_chiller_state(df, threshold):\n",
    "    df = df.assign(ch1_status=(df.ch1kw >= threshold).astype(np.int))\n",
    "    df = df.assign(ch2_status=(df.ch2kw >= threshold).astype(np.int))\n",
    "    df = df.assign(ch3_status=(df.ch3kw >= threshold).astype(np.int))\n",
    "    return df"
   ]
  },
  {
   "cell_type": "code",
   "execution_count": 18,
   "metadata": {
    "ExecuteTime": {
     "end_time": "2018-09-03T08:36:01.414383Z",
     "start_time": "2018-09-03T08:36:01.376159Z"
    }
   },
   "outputs": [],
   "source": [
    "threshold = 10\n",
    "df1 = assign_chiller_state(df1, threshold)\n",
    "df2 = assign_chiller_state(df2, threshold)"
   ]
  },
  {
   "cell_type": "markdown",
   "metadata": {},
   "source": [
    "## Create target value\n",
    "\n",
    "$$\\text{totalkw} = \\sum_{i = 1}^3 \\text{ch<i>kw}$$"
   ]
  },
  {
   "cell_type": "code",
   "execution_count": 20,
   "metadata": {
    "ExecuteTime": {
     "end_time": "2018-09-03T08:36:22.488682Z",
     "start_time": "2018-09-03T08:36:22.458272Z"
    }
   },
   "outputs": [],
   "source": [
    "outputs = [\"ch1kw\", \"ch2kw\", \"ch3kw\"]\n",
    "df1 = df1.assign(totalkw=df1.loc[:, outputs].sum(axis=1))\n",
    "df2 = df2.assign(totalkw=df2.loc[:, outputs].sum(axis=1))"
   ]
  },
  {
   "cell_type": "markdown",
   "metadata": {
    "heading_collapsed": true
   },
   "source": [
    "## Visualize difference between original and re-sampled"
   ]
  },
  {
   "cell_type": "code",
   "execution_count": 17,
   "metadata": {
    "ExecuteTime": {
     "end_time": "2018-07-28T02:22:17.394399Z",
     "start_time": "2018-07-28T02:22:16.869722Z"
    },
    "hidden": true
   },
   "outputs": [
    {
     "data": {
      "image/png": "[encoded data removed]",
      "text/plain": [
       "<matplotlib.figure.Figure at 0x7f2e6db28ac8>"
      ]
     },
     "metadata": {},
     "output_type": "display_data"
    }
   ],
   "source": [
    "# Visualize one example\n",
    "fig, axes = plt.subplots(1, 2, figsize=(12, 5), sharey=True)\n",
    "\n",
    "df1.loc[\"2016-02-01\", outputs].sum(axis=1).plot(ax=axes[0], title=\"Original total KW\")\n",
    "df1_sampled.loc[\"2016-02-01\"].totalkw.plot(ax=axes[1], title=\"Resampled (5 mins) total KW\")\n",
    "\n",
    "fig.tight_layout()"
   ]
  },
  {
   "cell_type": "markdown",
   "metadata": {},
   "source": [
    "## Save processed data"
   ]
  },
  {
   "cell_type": "code",
   "execution_count": 21,
   "metadata": {
    "ExecuteTime": {
     "end_time": "2018-09-03T08:38:42.340790Z",
     "start_time": "2018-09-03T08:38:39.086221Z"
    }
   },
   "outputs": [],
   "source": [
    "df1.to_csv(\"../data/insead_2016_no_missing.csv.gz\", compression=\"gzip\")\n",
    "df2.to_csv(\"../data/insead_2018_no_missing.csv.gz\", compression=\"gzip\")"
   ]
  },
  {
   "cell_type": "markdown",
   "metadata": {},
   "source": [
    "---"
   ]
  },
  {
   "cell_type": "markdown",
   "metadata": {
    "heading_collapsed": true
   },
   "source": [
    "## Save resampled data"
   ]
  },
  {
   "cell_type": "code",
   "execution_count": 18,
   "metadata": {
    "ExecuteTime": {
     "end_time": "2018-07-28T02:23:17.903954Z",
     "start_time": "2018-07-28T02:23:12.534215Z"
    },
    "hidden": true
   },
   "outputs": [],
   "source": [
    "df1_raw = df1\n",
    "df2_raw = df2\n",
    "\n",
    "df1 = df1_sampled\n",
    "df2 = df2_sampled\n",
    "\n",
    "df1_raw.to_csv(\"../data/insead_2016.csv.gz\", compression=\"gzip\")\n",
    "df2_raw.to_csv(\"../data/insead_2018.csv.gz\", compression=\"gzip\")\n",
    "\n",
    "df1.to_csv(\"../data/insead_2016_resampled.csv.gz\", compression=\"gzip\")\n",
    "df2.to_csv(\"../data/insead_2018_resampled.csv.gz\", compression=\"gzip\")"
   ]
  },
  {
   "cell_type": "markdown",
   "metadata": {
    "heading_collapsed": true
   },
   "source": [
    "## Read processed data"
   ]
  },
  {
   "cell_type": "code",
   "execution_count": 19,
   "metadata": {
    "ExecuteTime": {
     "end_time": "2018-07-28T02:23:25.406496Z",
     "start_time": "2018-07-28T02:23:24.767921Z"
    },
    "hidden": true
   },
   "outputs": [],
   "source": [
    "df1_raw = pd.read_csv(\"../data/insead_2016.csv.gz\", index_col=\"timestamp\", \n",
    "                      parse_dates=[\"timestamp\"], compression=\"gzip\")\n",
    "df2_raw = pd.read_csv(\"../data/insead_2018.csv.gz\", index_col=\"timestamp\", \n",
    "                      parse_dates=[\"timestamp\"], compression=\"gzip\")\n",
    "\n",
    "df1 = pd.read_csv(\"../data/insead_2016_resampled.csv.gz\", index_col=\"timestamp\", \n",
    "                  parse_dates=[\"timestamp\"], compression=\"gzip\")\n",
    "df2 = pd.read_csv(\"../data/insead_2018_resampled.csv.gz\", index_col=\"timestamp\", \n",
    "                  parse_dates=[\"timestamp\"], compression=\"gzip\")"
   ]
  },
  {
   "cell_type": "markdown",
   "metadata": {},
   "source": [
    "## Final set of attributes"
   ]
  },
  {
   "cell_type": "code",
   "execution_count": 22,
   "metadata": {
    "ExecuteTime": {
     "end_time": "2018-09-03T08:39:09.743124Z",
     "start_time": "2018-09-03T08:39:09.730797Z"
    }
   },
   "outputs": [
    {
     "data": {
      "text/html": [
       "<div>\n",
       "<style scoped>\n",
       "    .dataframe tbody tr th:only-of-type {\n",
       "        vertical-align: middle;\n",
       "    }\n",
       "\n",
       "    .dataframe tbody tr th {\n",
       "        vertical-align: top;\n",
       "    }\n",
       "\n",
       "    .dataframe thead th {\n",
       "        text-align: right;\n",
       "    }\n",
       "</style>\n",
       "<table border=\"1\" class=\"dataframe\">\n",
       "  <thead>\n",
       "    <tr style=\"text-align: right;\">\n",
       "      <th></th>\n",
       "      <th>Attribute</th>\n",
       "    </tr>\n",
       "  </thead>\n",
       "  <tbody>\n",
       "    <tr>\n",
       "      <th>0</th>\n",
       "      <td>chwshdr</td>\n",
       "    </tr>\n",
       "    <tr>\n",
       "      <th>1</th>\n",
       "      <td>cwrhdr</td>\n",
       "    </tr>\n",
       "    <tr>\n",
       "      <th>2</th>\n",
       "      <td>cwshdr</td>\n",
       "    </tr>\n",
       "    <tr>\n",
       "      <th>3</th>\n",
       "      <td>cwsfhdr</td>\n",
       "    </tr>\n",
       "    <tr>\n",
       "      <th>4</th>\n",
       "      <td>ch1kw</td>\n",
       "    </tr>\n",
       "    <tr>\n",
       "      <th>5</th>\n",
       "      <td>ch2kw</td>\n",
       "    </tr>\n",
       "    <tr>\n",
       "      <th>6</th>\n",
       "      <td>ch3kw</td>\n",
       "    </tr>\n",
       "    <tr>\n",
       "      <th>7</th>\n",
       "      <td>loadsys</td>\n",
       "    </tr>\n",
       "    <tr>\n",
       "      <th>8</th>\n",
       "      <td>chwsfhdr</td>\n",
       "    </tr>\n",
       "    <tr>\n",
       "      <th>9</th>\n",
       "      <td>ch1_status</td>\n",
       "    </tr>\n",
       "    <tr>\n",
       "      <th>10</th>\n",
       "      <td>ch2_status</td>\n",
       "    </tr>\n",
       "    <tr>\n",
       "      <th>11</th>\n",
       "      <td>ch3_status</td>\n",
       "    </tr>\n",
       "    <tr>\n",
       "      <th>12</th>\n",
       "      <td>totalkw</td>\n",
       "    </tr>\n",
       "  </tbody>\n",
       "</table>\n",
       "</div>"
      ],
      "text/plain": [
       "     Attribute\n",
       "0      chwshdr\n",
       "1       cwrhdr\n",
       "2       cwshdr\n",
       "3      cwsfhdr\n",
       "4        ch1kw\n",
       "5        ch2kw\n",
       "6        ch3kw\n",
       "7      loadsys\n",
       "8     chwsfhdr\n",
       "9   ch1_status\n",
       "10  ch2_status\n",
       "11  ch3_status\n",
       "12     totalkw"
      ]
     },
     "execution_count": 22,
     "metadata": {},
     "output_type": "execute_result"
    }
   ],
   "source": [
    "pd.DataFrame(df1.columns, columns=[\"Attribute\"])"
   ]
  },
  {
   "cell_type": "markdown",
   "metadata": {},
   "source": [
    "## Features and target"
   ]
  },
  {
   "cell_type": "code",
   "execution_count": 21,
   "metadata": {
    "ExecuteTime": {
     "end_time": "2018-07-28T02:25:08.738855Z",
     "start_time": "2018-07-28T02:25:08.732003Z"
    }
   },
   "outputs": [],
   "source": [
    "features = [\n",
    "\"chwshdr\",\n",
    "\"cwrhdr\",\n",
    "\"cwshdr\",\n",
    "\"cwsfhdr\",\n",
    "\"loadsys\",\n",
    "\"chwsfhdr\", \n",
    "\n",
    "\"ch1_status\",\n",
    "\"ch2_status\",\n",
    "\"ch3_status\",\n",
    "]\n",
    "\n",
    "status_features = [\n",
    "\"ch1_status\",\n",
    "\"ch2_status\",\n",
    "\"ch3_status\"    \n",
    "]\n",
    "\n",
    "target = [\"totalkw\",\n",
    "          # \"ch1kw\",\n",
    "          # \"ch2kw\",\n",
    "          # \"ch3kw\",    \n",
    "         ]"
   ]
  }
 ],
 "metadata": {
  "hide_input": false,
  "kernelspec": {
   "display_name": "Python 3",
   "language": "python",
   "name": "python3"
  },
  "language_info": {
   "codemirror_mode": {
    "name": "ipython",
    "version": 3
   },
   "file_extension": ".py",
   "mimetype": "text/x-python",
   "name": "python",
   "nbconvert_exporter": "python",
   "pygments_lexer": "ipython3",
   "version": "3.6.5"
  },
  "toc": {
   "base_numbering": 1,
   "nav_menu": {},
   "number_sections": true,
   "sideBar": true,
   "skip_h1_title": false,
   "title_cell": "Table of Contents",
   "title_sidebar": "Contents",
   "toc_cell": false,
   "toc_position": {
    "height": "calc(100% - 180px)",
    "left": "10px",
    "top": "150px",
    "width": "383px"
   },
   "toc_section_display": true,
   "toc_window_display": true
  },
  "varInspector": {
   "cols": {
    "lenName": 16,
    "lenType": 16,
    "lenVar": 40
   },
   "kernels_config": {
    "python": {
     "delete_cmd_postfix": "",
     "delete_cmd_prefix": "del ",
     "library": "var_list.py",
     "varRefreshCmd": "print(var_dic_list())"
    },
    "r": {
     "delete_cmd_postfix": ") ",
     "delete_cmd_prefix": "rm(",
     "library": "var_list.r",
     "varRefreshCmd": "cat(var_dic_list()) "
    }
   },
   "types_to_exclude": [
    "module",
    "function",
    "builtin_function_or_method",
    "instance",
    "_Feature"
   ],
   "window_display": false
  }
 },
 "nbformat": 4,
 "nbformat_minor": 2
}
