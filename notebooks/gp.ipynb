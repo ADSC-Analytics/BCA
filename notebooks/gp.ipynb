{
 "cells": [
  {
   "cell_type": "markdown",
   "metadata": {},
   "source": [
    "# Gaussian Process Time-Series Regression\n",
    "\n",
    "Train a Gaussian Process to model the time-series"
   ]
  },
  {
   "cell_type": "code",
   "execution_count": 1,
   "metadata": {
    "ExecuteTime": {
     "end_time": "2018-07-13T03:00:28.415512Z",
     "start_time": "2018-07-13T03:00:24.564858Z"
    }
   },
   "outputs": [],
   "source": [
    "import pandas as pd\n",
    "import numpy as np\n",
    "import matplotlib.pyplot as plt\n",
    "\n",
    "plt.style.use(\"ggplot\")\n",
    "%matplotlib inline\n",
    "\n",
    "from IPython.display import display_html\n",
    "def display_side_by_side(*args):\n",
    "    \"\"\"\n",
    "    Taken from https://stackoverflow.com/questions/38783027/jupyter-notebook-display-two-pandas-tables-side-by-side\n",
    "    \"\"\"\n",
    "    html_str=''\n",
    "    for df in args:\n",
    "        html_str += df.to_html()\n",
    "    display_html(html_str.replace('table','table style=\"display:inline\"'), raw=True)"
   ]
  },
  {
   "cell_type": "markdown",
   "metadata": {},
   "source": [
    "## Get data"
   ]
  },
  {
   "cell_type": "code",
   "execution_count": 5,
   "metadata": {
    "ExecuteTime": {
     "end_time": "2018-07-13T03:01:25.944421Z",
     "start_time": "2018-07-13T03:01:25.657011Z"
    }
   },
   "outputs": [
    {
     "data": {
      "text/plain": [
       "(85193, 13)"
      ]
     },
     "execution_count": 5,
     "metadata": {},
     "output_type": "execute_result"
    }
   ],
   "source": [
    "df1 = pd.read_csv(\"../data/insead_2016.csv\", index_col=\"Time Stamp\", parse_dates=[\"Time Stamp\"])\n",
    "df1.shape"
   ]
  },
  {
   "cell_type": "code",
   "execution_count": 19,
   "metadata": {
    "ExecuteTime": {
     "end_time": "2018-07-13T03:04:42.060150Z",
     "start_time": "2018-07-13T03:04:42.026887Z"
    }
   },
   "outputs": [
    {
     "data": {
      "text/html": [
       "<div>\n",
       "<style scoped>\n",
       "    .dataframe tbody tr th:only-of-type {\n",
       "        vertical-align: middle;\n",
       "    }\n",
       "\n",
       "    .dataframe tbody tr th {\n",
       "        vertical-align: top;\n",
       "    }\n",
       "\n",
       "    .dataframe thead th {\n",
       "        text-align: right;\n",
       "    }\n",
       "</style>\n",
       "<table border=\"1\" class=\"dataframe\">\n",
       "  <thead>\n",
       "    <tr style=\"text-align: right;\">\n",
       "      <th></th>\n",
       "      <th>chwshdr</th>\n",
       "      <th>cwrhdr</th>\n",
       "      <th>cwshdr</th>\n",
       "      <th>cwsfhdr</th>\n",
       "      <th>ch1kw</th>\n",
       "      <th>ch2kw</th>\n",
       "      <th>ch3kw</th>\n",
       "      <th>loadsys</th>\n",
       "      <th>chwsfhdr</th>\n",
       "      <th>ch1_status</th>\n",
       "      <th>ch2_status</th>\n",
       "      <th>ch3_status</th>\n",
       "      <th>y</th>\n",
       "    </tr>\n",
       "    <tr>\n",
       "      <th>Time Stamp</th>\n",
       "      <th></th>\n",
       "      <th></th>\n",
       "      <th></th>\n",
       "      <th></th>\n",
       "      <th></th>\n",
       "      <th></th>\n",
       "      <th></th>\n",
       "      <th></th>\n",
       "      <th></th>\n",
       "      <th></th>\n",
       "      <th></th>\n",
       "      <th></th>\n",
       "      <th></th>\n",
       "    </tr>\n",
       "  </thead>\n",
       "  <tbody>\n",
       "    <tr>\n",
       "      <th>2016-02-01 00:00:00</th>\n",
       "      <td>0.00000</td>\n",
       "      <td>30.4664</td>\n",
       "      <td>0.0000</td>\n",
       "      <td>0.000</td>\n",
       "      <td>0.000</td>\n",
       "      <td>0.000</td>\n",
       "      <td>0.000</td>\n",
       "      <td>0.000</td>\n",
       "      <td>0.000</td>\n",
       "      <td>0</td>\n",
       "      <td>0</td>\n",
       "      <td>0</td>\n",
       "      <td>0.000</td>\n",
       "    </tr>\n",
       "    <tr>\n",
       "      <th>2016-02-01 00:01:00</th>\n",
       "      <td>8.46289</td>\n",
       "      <td>30.3218</td>\n",
       "      <td>27.1430</td>\n",
       "      <td>536.522</td>\n",
       "      <td>0.844</td>\n",
       "      <td>0.856</td>\n",
       "      <td>82.944</td>\n",
       "      <td>113.924</td>\n",
       "      <td>407.278</td>\n",
       "      <td>0</td>\n",
       "      <td>0</td>\n",
       "      <td>0</td>\n",
       "      <td>84.644</td>\n",
       "    </tr>\n",
       "    <tr>\n",
       "      <th>2016-02-01 00:02:00</th>\n",
       "      <td>8.50649</td>\n",
       "      <td>30.2704</td>\n",
       "      <td>27.1343</td>\n",
       "      <td>531.157</td>\n",
       "      <td>0.848</td>\n",
       "      <td>0.880</td>\n",
       "      <td>81.920</td>\n",
       "      <td>111.232</td>\n",
       "      <td>402.875</td>\n",
       "      <td>0</td>\n",
       "      <td>0</td>\n",
       "      <td>0</td>\n",
       "      <td>83.648</td>\n",
       "    </tr>\n",
       "    <tr>\n",
       "      <th>2016-02-01 00:03:00</th>\n",
       "      <td>8.52001</td>\n",
       "      <td>30.2337</td>\n",
       "      <td>27.1465</td>\n",
       "      <td>532.766</td>\n",
       "      <td>0.864</td>\n",
       "      <td>0.868</td>\n",
       "      <td>80.896</td>\n",
       "      <td>108.164</td>\n",
       "      <td>395.830</td>\n",
       "      <td>0</td>\n",
       "      <td>0</td>\n",
       "      <td>0</td>\n",
       "      <td>82.628</td>\n",
       "    </tr>\n",
       "    <tr>\n",
       "      <th>2016-02-01 00:04:00</th>\n",
       "      <td>8.48630</td>\n",
       "      <td>30.2245</td>\n",
       "      <td>27.1510</td>\n",
       "      <td>534.376</td>\n",
       "      <td>0.872</td>\n",
       "      <td>0.880</td>\n",
       "      <td>79.872</td>\n",
       "      <td>105.685</td>\n",
       "      <td>385.703</td>\n",
       "      <td>0</td>\n",
       "      <td>0</td>\n",
       "      <td>0</td>\n",
       "      <td>81.624</td>\n",
       "    </tr>\n",
       "  </tbody>\n",
       "</table>\n",
       "</div>"
      ],
      "text/plain": [
       "                     chwshdr   cwrhdr   cwshdr  cwsfhdr  ch1kw  ch2kw   ch3kw  \\\n",
       "Time Stamp                                                                      \n",
       "2016-02-01 00:00:00  0.00000  30.4664   0.0000    0.000  0.000  0.000   0.000   \n",
       "2016-02-01 00:01:00  8.46289  30.3218  27.1430  536.522  0.844  0.856  82.944   \n",
       "2016-02-01 00:02:00  8.50649  30.2704  27.1343  531.157  0.848  0.880  81.920   \n",
       "2016-02-01 00:03:00  8.52001  30.2337  27.1465  532.766  0.864  0.868  80.896   \n",
       "2016-02-01 00:04:00  8.48630  30.2245  27.1510  534.376  0.872  0.880  79.872   \n",
       "\n",
       "                     loadsys  chwsfhdr  ch1_status  ch2_status  ch3_status  \\\n",
       "Time Stamp                                                                   \n",
       "2016-02-01 00:00:00    0.000     0.000           0           0           0   \n",
       "2016-02-01 00:01:00  113.924   407.278           0           0           0   \n",
       "2016-02-01 00:02:00  111.232   402.875           0           0           0   \n",
       "2016-02-01 00:03:00  108.164   395.830           0           0           0   \n",
       "2016-02-01 00:04:00  105.685   385.703           0           0           0   \n",
       "\n",
       "                          y  \n",
       "Time Stamp                   \n",
       "2016-02-01 00:00:00   0.000  \n",
       "2016-02-01 00:01:00  84.644  \n",
       "2016-02-01 00:02:00  83.648  \n",
       "2016-02-01 00:03:00  82.628  \n",
       "2016-02-01 00:04:00  81.624  "
      ]
     },
     "execution_count": 19,
     "metadata": {},
     "output_type": "execute_result"
    }
   ],
   "source": [
    "df1.head()"
   ]
  }
 ],
 "metadata": {
  "hide_input": false,
  "kernelspec": {
   "display_name": "Python 3",
   "language": "python",
   "name": "python3"
  },
  "language_info": {
   "codemirror_mode": {
    "name": "ipython",
    "version": 3
   },
   "file_extension": ".py",
   "mimetype": "text/x-python",
   "name": "python",
   "nbconvert_exporter": "python",
   "pygments_lexer": "ipython3",
   "version": "3.6.4"
  },
  "toc": {
   "nav_menu": {},
   "number_sections": true,
   "sideBar": false,
   "skip_h1_title": false,
   "title_cell": "Table of Contents",
   "title_sidebar": "Contents",
   "toc_cell": false,
   "toc_position": {},
   "toc_section_display": true,
   "toc_window_display": false
  }
 },
 "nbformat": 4,
 "nbformat_minor": 2
}
